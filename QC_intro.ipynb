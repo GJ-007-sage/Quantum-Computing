{
  "nbformat": 4,
  "nbformat_minor": 0,
  "metadata": {
    "colab": {
      "provenance": [],
      "authorship_tag": "ABX9TyN5tPyurhk9vM1GG6+GzxGB",
      "include_colab_link": true
    },
    "kernelspec": {
      "name": "python3",
      "display_name": "Python 3"
    },
    "language_info": {
      "name": "python"
    }
  },
  "cells": [
    {
      "cell_type": "markdown",
      "metadata": {
        "id": "view-in-github",
        "colab_type": "text"
      },
      "source": [
        "<a href=\"https://colab.research.google.com/github/GJ-007-sage/Quantum-Computing/blob/main/QC_intro.ipynb\" target=\"_parent\"><img src=\"https://colab.research.google.com/assets/colab-badge.svg\" alt=\"Open In Colab\"/></a>"
      ]
    },
    {
      "cell_type": "code",
      "source": [
        "!pip uninstall -y qiskit qiskit-terra qiskit-aer qiskit-ibmq-provider\n"
      ],
      "metadata": {
        "colab": {
          "base_uri": "https://localhost:8080/"
        },
        "id": "UpvYgJ2lcpkR",
        "outputId": "65bd4f3f-3cd9-4981-a5c5-e778f4408cb1"
      },
      "execution_count": 5,
      "outputs": [
        {
          "output_type": "stream",
          "name": "stdout",
          "text": [
            "Found existing installation: qiskit 2.0.2\n",
            "Uninstalling qiskit-2.0.2:\n",
            "  Successfully uninstalled qiskit-2.0.2\n",
            "Found existing installation: qiskit-terra 0.46.3\n",
            "Uninstalling qiskit-terra-0.46.3:\n",
            "  Successfully uninstalled qiskit-terra-0.46.3\n",
            "Found existing installation: qiskit-aer 0.17.1\n",
            "Uninstalling qiskit-aer-0.17.1:\n",
            "  Successfully uninstalled qiskit-aer-0.17.1\n",
            "\u001b[33mWARNING: Skipping qiskit-ibmq-provider as it is not installed.\u001b[0m\u001b[33m\n",
            "\u001b[0m"
          ]
        }
      ]
    },
    {
      "cell_type": "code",
      "execution_count": 6,
      "metadata": {
        "colab": {
          "base_uri": "https://localhost:8080/"
        },
        "id": "PqsiaBfkkl1x",
        "outputId": "b3885956-5037-4061-9577-7f3b14afbd03"
      },
      "outputs": [
        {
          "output_type": "stream",
          "name": "stdout",
          "text": [
            "Collecting qiskit\n",
            "  Using cached qiskit-2.0.2-cp39-abi3-manylinux_2_17_x86_64.manylinux2014_x86_64.whl.metadata (12 kB)\n",
            "Requirement already satisfied: rustworkx>=0.15.0 in /usr/local/lib/python3.11/dist-packages (from qiskit) (0.16.0)\n",
            "Requirement already satisfied: numpy<3,>=1.17 in /usr/local/lib/python3.11/dist-packages (from qiskit) (2.0.2)\n",
            "Requirement already satisfied: scipy>=1.5 in /usr/local/lib/python3.11/dist-packages (from qiskit) (1.15.3)\n",
            "Requirement already satisfied: sympy>=1.3 in /usr/local/lib/python3.11/dist-packages (from qiskit) (1.13.1)\n",
            "Requirement already satisfied: dill>=0.3 in /usr/local/lib/python3.11/dist-packages (from qiskit) (0.3.7)\n",
            "Requirement already satisfied: python-dateutil>=2.8.0 in /usr/local/lib/python3.11/dist-packages (from qiskit) (2.9.0.post0)\n",
            "Requirement already satisfied: stevedore>=3.0.0 in /usr/local/lib/python3.11/dist-packages (from qiskit) (5.4.1)\n",
            "Requirement already satisfied: typing-extensions in /usr/local/lib/python3.11/dist-packages (from qiskit) (4.14.0)\n",
            "Requirement already satisfied: symengine<0.14,>=0.11 in /usr/local/lib/python3.11/dist-packages (from qiskit) (0.13.0)\n",
            "Requirement already satisfied: six>=1.5 in /usr/local/lib/python3.11/dist-packages (from python-dateutil>=2.8.0->qiskit) (1.17.0)\n",
            "Requirement already satisfied: pbr>=2.0.0 in /usr/local/lib/python3.11/dist-packages (from stevedore>=3.0.0->qiskit) (6.1.1)\n",
            "Requirement already satisfied: mpmath<1.4,>=1.1.0 in /usr/local/lib/python3.11/dist-packages (from sympy>=1.3->qiskit) (1.3.0)\n",
            "Requirement already satisfied: setuptools in /usr/local/lib/python3.11/dist-packages (from pbr>=2.0.0->stevedore>=3.0.0->qiskit) (75.2.0)\n",
            "Using cached qiskit-2.0.2-cp39-abi3-manylinux_2_17_x86_64.manylinux2014_x86_64.whl (6.5 MB)\n",
            "Installing collected packages: qiskit\n",
            "Successfully installed qiskit-2.0.2\n"
          ]
        }
      ],
      "source": [
        "!pip install qiskit"
      ]
    },
    {
      "cell_type": "code",
      "source": [
        "from qiskit import QuantumCircuit\n",
        "\n",
        "qc = QuantumCircuit(2)\n",
        "qc.h(0)\n",
        "qc.cx(0, 1)\n",
        "qc.draw('text')\n"
      ],
      "metadata": {
        "colab": {
          "base_uri": "https://localhost:8080/",
          "height": 94
        },
        "id": "kKhTvqcRkpgR",
        "outputId": "9b61e424-d0d7-4124-f2fd-b860df3d4700"
      },
      "execution_count": 7,
      "outputs": [
        {
          "output_type": "execute_result",
          "data": {
            "text/plain": [
              "     ┌───┐     \n",
              "q_0: ┤ H ├──■──\n",
              "     └───┘┌─┴─┐\n",
              "q_1: ─────┤ X ├\n",
              "          └───┘"
            ],
            "text/html": [
              "<pre style=\"word-wrap: normal;white-space: pre;background: #fff0;line-height: 1.1;font-family: &quot;Courier New&quot;,Courier,monospace\">     ┌───┐     \n",
              "q_0: ┤ H ├──■──\n",
              "     └───┘┌─┴─┐\n",
              "q_1: ─────┤ X ├\n",
              "          └───┘</pre>"
            ]
          },
          "metadata": {},
          "execution_count": 7
        }
      ]
    },
    {
      "cell_type": "code",
      "source": [
        "!pip install matplotlib pylatexenc\n"
      ],
      "metadata": {
        "colab": {
          "base_uri": "https://localhost:8080/"
        },
        "id": "FiNA1sPzlZxg",
        "outputId": "59656b6b-9312-4780-cdf2-4ba988a901c3"
      },
      "execution_count": 8,
      "outputs": [
        {
          "output_type": "stream",
          "name": "stdout",
          "text": [
            "Requirement already satisfied: matplotlib in /usr/local/lib/python3.11/dist-packages (3.10.0)\n",
            "Requirement already satisfied: pylatexenc in /usr/local/lib/python3.11/dist-packages (2.10)\n",
            "Requirement already satisfied: contourpy>=1.0.1 in /usr/local/lib/python3.11/dist-packages (from matplotlib) (1.3.2)\n",
            "Requirement already satisfied: cycler>=0.10 in /usr/local/lib/python3.11/dist-packages (from matplotlib) (0.12.1)\n",
            "Requirement already satisfied: fonttools>=4.22.0 in /usr/local/lib/python3.11/dist-packages (from matplotlib) (4.58.2)\n",
            "Requirement already satisfied: kiwisolver>=1.3.1 in /usr/local/lib/python3.11/dist-packages (from matplotlib) (1.4.8)\n",
            "Requirement already satisfied: numpy>=1.23 in /usr/local/lib/python3.11/dist-packages (from matplotlib) (2.0.2)\n",
            "Requirement already satisfied: packaging>=20.0 in /usr/local/lib/python3.11/dist-packages (from matplotlib) (24.2)\n",
            "Requirement already satisfied: pillow>=8 in /usr/local/lib/python3.11/dist-packages (from matplotlib) (11.2.1)\n",
            "Requirement already satisfied: pyparsing>=2.3.1 in /usr/local/lib/python3.11/dist-packages (from matplotlib) (3.2.3)\n",
            "Requirement already satisfied: python-dateutil>=2.7 in /usr/local/lib/python3.11/dist-packages (from matplotlib) (2.9.0.post0)\n",
            "Requirement already satisfied: six>=1.5 in /usr/local/lib/python3.11/dist-packages (from python-dateutil>=2.7->matplotlib) (1.17.0)\n"
          ]
        }
      ]
    },
    {
      "cell_type": "code",
      "source": [
        "print(qc.draw('mpl'))"
      ],
      "metadata": {
        "colab": {
          "base_uri": "https://localhost:8080/"
        },
        "id": "ON1PFe07m_Kg",
        "outputId": "c87e1e72-2695-4dc6-9bdb-8edce634e3cc"
      },
      "execution_count": 9,
      "outputs": [
        {
          "output_type": "stream",
          "name": "stdout",
          "text": [
            "Figure(287.294x200.667)\n"
          ]
        }
      ]
    },
    {
      "cell_type": "code",
      "source": [
        "qc.draw('mpl')\n"
      ],
      "metadata": {
        "colab": {
          "base_uri": "https://localhost:8080/",
          "height": 191
        },
        "id": "m5LZlahrntxg",
        "outputId": "8eedd101-ff33-4228-c8af-658aa0f0cc44"
      },
      "execution_count": 10,
      "outputs": [
        {
          "output_type": "execute_result",
          "data": {
            "text/plain": [
              "<Figure size 287.294x200.667 with 1 Axes>"
            ],
            "image/png": "[encoded data removed]"
          },
          "metadata": {},
          "execution_count": 10
        }
      ]
    },
    {
      "cell_type": "markdown",
      "source": [
        "# Introduction to Quantum Computing: From Fundamentals to Quantum Algorithms\n",
        "**Basic Tutorial to get started with Qiskit**\n",
        "\n",
        "In this tutorial I aim to equip you all with most of the basics of Qiskit especially those that will be needed to solve the first assignment. Now, a basic workflow using Qiskit consists of two stages: **Build** and **Run**. **Build** allows you to make different quantum circuits that represent the problem you are solving, and **Run** that allows you to run them on different backends.  After the jobs have been run, the data is collected and postprocessed depending on the desired output.\n",
        "\n",
        "## Building the circuit\n",
        "\n",
        "The basic element needed for any program is the QuantumCircuit. We begin by creating a `QuantumCircuit` comprised of three qubits."
      ],
      "metadata": {
        "id": "6UietpjuWWv-"
      }
    },
    {
      "cell_type": "code",
      "source": [
        "# Create a Quantum Circuit acting on a quantum register of three qubits\n",
        "from qiskit import QuantumCircuit\n",
        "circ = QuantumCircuit(3)"
      ],
      "metadata": {
        "id": "GbuXcfUBleZ6"
      },
      "execution_count": 11,
      "outputs": []
    },
    {
      "cell_type": "markdown",
      "source": [
        "In Qiskit, a `QuantumRegister` is a fundamental data structure used to organize and reference qubits, especially helpful while making a quantum circuit. For making simple circuits such as above we often let `QuantumCircuit` create anonymous registers automatically by not giving any specific instruction. Quantum Registers can be made and used as follows:"
      ],
      "metadata": {
        "id": "7Nfx-_blWmOw"
      }
    },
    {
      "cell_type": "code",
      "source": [
        "from qiskit import QuantumRegister\n",
        "\n",
        "# Create a quantum register with 3 qubits, named 'qr'\n",
        "qr = QuantumRegister(3, name='qr')\n",
        "print(qr)"
      ],
      "metadata": {
        "colab": {
          "base_uri": "https://localhost:8080/"
        },
        "id": "ZZOxsPGjWjAo",
        "outputId": "b7845359-32d9-40f8-aa75-53cf611e39e9"
      },
      "execution_count": 12,
      "outputs": [
        {
          "output_type": "stream",
          "name": "stdout",
          "text": [
            "QuantumRegister(3, 'qr')\n"
          ]
        }
      ]
    },
    {
      "cell_type": "code",
      "source": [
        "qr2 = QuantumRegister(2, 'ancilla')\n",
        "circ2 = QuantumCircuit(qr, qr2)  # Circuit with 5 qubits (3 + 2)\n",
        "print(circ2)"
      ],
      "metadata": {
        "colab": {
          "base_uri": "https://localhost:8080/"
        },
        "id": "42YLR1XoWsEA",
        "outputId": "36c2c7b9-2701-4136-e178-4d0b15af132f"
      },
      "execution_count": 13,
      "outputs": [
        {
          "output_type": "stream",
          "name": "stdout",
          "text": [
            "           \n",
            "     qr_0: \n",
            "           \n",
            "     qr_1: \n",
            "           \n",
            "     qr_2: \n",
            "           \n",
            "ancilla_0: \n",
            "           \n",
            "ancilla_1: \n",
            "           \n"
          ]
        }
      ]
    },
    {
      "cell_type": "markdown",
      "source": [
        "`QuantumRegister` provides a way to logically group qubits together. Organizing qubits into registers can make your quantum circuit code more readable and manageable, especially for larger circuits like where one might need ancillas (as you might have studied in your Quantum Circuit meet) to impliment the required logic. But for this tutorial you will be looking at simpler circuits hence will used the initial circuit `circ`. After you create the circuit with its registers, you can add gates (\"operations\") to manipulate the registers. As you proceed through the tutorials you will find more gates and circuits; below is an example of a quantum circuit that makes a three-qubit GHZ state (Name of the state is not important, what you should focus on is that this state is often used to impliment various algorithms and how one might make this through gate operations)\n",
        "\n",
        "$$|\\psi\\rangle = \\left(|000\\rangle+|111\\rangle\\right)/\\sqrt{2}.$$\n",
        "\n",
        "To create such a state, we start with a three-qubit quantum register. By default, each qubit in the register is initialized to $|0\\rangle$. To make the GHZ state, we apply the following gates:\n",
        "- A Hadamard gate $H$ on qubit 0, which puts it into the superposition state $\\left(|0\\rangle+|1\\rangle\\right)/\\sqrt{2}$.\n",
        "- A Controlled-NOT operation ($C_{X}$) between qubit 0 and qubit 1.\n",
        "- A Controlled-NOT operation between qubit 0 and qubit 2.\n",
        "\n",
        "On an ideal quantum computer, the state produced by running this circuit would be the GHZ state above.\n",
        "\n",
        "In Qiskit, operations can be added to the circuit one by one, as shown below."
      ],
      "metadata": {
        "id": "jgdMay6nW2Q3"
      }
    },
    {
      "cell_type": "code",
      "source": [
        "# Applying H gate on qubit 0\n",
        "circ.h(0)         # circ.x() for applying X gate, for Z gate circ.z()\n",
        "# Applying a CX (CNOT) gate with control qubit 0 and target qubit 1\n",
        "circ.cx(0, 1)\n",
        "# Applying a CX (CNOT) gate with control qubit 0 and target qubit 2, putting the qubits in a GHZ state.\n",
        "circ.cx(0, 2)"
      ],
      "metadata": {
        "colab": {
          "base_uri": "https://localhost:8080/"
        },
        "id": "HzvkqU0TWwhV",
        "outputId": "a4a4ec86-a216-471f-eb40-37000bd256e7"
      },
      "execution_count": 14,
      "outputs": [
        {
          "output_type": "execute_result",
          "data": {
            "text/plain": [
              "<qiskit.circuit.instructionset.InstructionSet at 0x794a985885e0>"
            ]
          },
          "metadata": {},
          "execution_count": 14
        }
      ]
    },
    {
      "cell_type": "markdown",
      "source": [
        "## Visualize Circuit <a name='visualize'></a>\n",
        "\n",
        "You can visualize your circuit using Qiskit `QuantumCircuit.draw()`, which plots the circuit in the conventional form (The ones used in Nielsen and Chuang book which we are using for our project)"
      ],
      "metadata": {
        "id": "zM6W4BMRW_LT"
      }
    },
    {
      "cell_type": "code",
      "source": [
        "circ.draw('mpl')"
      ],
      "metadata": {
        "colab": {
          "base_uri": "https://localhost:8080/",
          "height": 255
        },
        "id": "NVx08T0nW_nr",
        "outputId": "c858f373-790e-4a28-f464-7095d687fb39"
      },
      "execution_count": 15,
      "outputs": [
        {
          "output_type": "execute_result",
          "data": {
            "text/plain": [
              "<Figure size 371.107x284.278 with 1 Axes>"
            ],
            "image/png": "[encoded data removed]"
          },
          "metadata": {},
          "execution_count": 15
        }
      ]
    },
    {
      "cell_type": "markdown",
      "source": [
        "When representing the state of a multi-qubit system, the tensor order used in Qiskit is different than that used in most books. Suppose there are $n$ qubits, and qubit $j$ is labeled as $Q_{j}$. Qiskit uses an ordering in which the $n^{\\mathrm{th}}$ qubit is on the <em><strong>left</strong></em> side of the tensor product, so that the basis vectors are labeled as  $Q_{n-1}\\otimes \\cdots  \\otimes  Q_1\\otimes Q_0$.\n",
        "\n",
        "For example, if qubit zero is in state 0, qubit 1 is in state 0, and qubit 2 is in state 1, Qiskit would represent this state as $|100\\rangle$, whereas many books would represent it as $|001\\rangle$.\n",
        "\n",
        "This difference in labeling affects the way multi-qubit operations are represented as matrices. For example, conventionally (as you all might have studied in the quantum circuit meet) a controlled-X ($C_{X}$) operation with qubit 0 being the control and qubit 1 being the target is written as\n",
        "$$|0\\rangle \\langle0|\\otimes I +|1\\rangle \\langle1|\\otimes X$$\n",
        "(Try to reason why this is correct representation of CNOT gate and find its matrix representation in computational basis). But, in Qiskit due to reverse indexing it is represented as\n",
        "$$I\\otimes|0\\rangle \\langle0| +X\\otimes|1\\rangle \\langle1|$$\n",
        "With the matrix represention as\n",
        "$$C_X = \\begin{pmatrix} 1 & 0 & 0 & 0 \\\\  0 & 0 & 0 & 1 \\\\ 0 & 0 & 1 & 0 \\\\ 0 & 1 & 0 & 0 \\\\\\end{pmatrix}.$$"
      ],
      "metadata": {
        "id": "WB0xVgMoXFrs"
      }
    },
    {
      "cell_type": "markdown",
      "source": [
        "## Simulating circuits <a name='simulation'></a>\n",
        "\n",
        "To simulate a circuit we use the Statevector simulator from the quant_info module. This simulator returns the quantum state, which is a complex vector of dimensions $2^n$, where $n$ is the number of qubits (so be careful using this as it will quickly get too large to run on your machine). But remember that this is not an actual simulator and doesn't perform any measurements. It just checks what circuit you have made and what the final statevector (wavefunction) will be.\n",
        "\n",
        "There are two stages to the simulator. The first is to set the input state and the second to evolve the state by the quantum circuit."
      ],
      "metadata": {
        "id": "SPUpsVYvXNjB"
      }
    },
    {
      "cell_type": "code",
      "source": [
        "from qiskit.quantum_info import Statevector\n",
        "\n",
        "# Set the initial state of the simulator to the ground state using from_int\n",
        "state = Statevector.from_int(0, 2**3)\n",
        "\n",
        "# Evolve the state by the quantum circuit\n",
        "state = state.evolve(circ)\n",
        "\n",
        "#draw using latex\n",
        "state.draw('latex')"
      ],
      "metadata": {
        "colab": {
          "base_uri": "https://localhost:8080/",
          "height": 40
        },
        "id": "a2XUY_-bXCLY",
        "outputId": "8673bbd2-6822-4b23-dfd7-f8802f602f87"
      },
      "execution_count": 16,
      "outputs": [
        {
          "output_type": "execute_result",
          "data": {
            "text/plain": [
              "<IPython.core.display.Latex object>"
            ],
            "text/latex": "$$\\frac{\\sqrt{2}}{2} |000\\rangle+\\frac{\\sqrt{2}}{2} |111\\rangle$$"
          },
          "metadata": {},
          "execution_count": 16
        }
      ]
    },
    {
      "cell_type": "code",
      "source": [
        "from qiskit.visualization import array_to_latex\n",
        "\n",
        "#Alternative way of representing in latex\n",
        "array_to_latex(state)"
      ],
      "metadata": {
        "colab": {
          "base_uri": "https://localhost:8080/",
          "height": 47
        },
        "id": "MR5XQwmWXQt5",
        "outputId": "4a795088-9bcc-40dc-d6fd-f20c353214ca"
      },
      "execution_count": 17,
      "outputs": [
        {
          "output_type": "execute_result",
          "data": {
            "text/plain": [
              "<IPython.core.display.Latex object>"
            ],
            "text/latex": "$$\n\n\\begin{bmatrix}\n\\frac{\\sqrt{2}}{2} & 0 & 0 & 0 & 0 & 0 & 0 & \\frac{\\sqrt{2}}{2}  \\\\\n \\end{bmatrix}\n$$"
          },
          "metadata": {},
          "execution_count": 17
        }
      ]
    },
    {
      "cell_type": "markdown",
      "source": [
        "## Unitary representation of a circuit"
      ],
      "metadata": {
        "id": "u56LBfE7XtIz"
      }
    },
    {
      "cell_type": "markdown",
      "source": [
        "Qiskit's quant_info module also has an operator method which can be used to make a unitary operator for the circuit. This calculates the $2^n \\times 2^n$ matrix representing the quantum circuit."
      ],
      "metadata": {
        "id": "e4QiPBzRXuIu"
      }
    },
    {
      "cell_type": "code",
      "source": [
        "from qiskit.quantum_info import Operator\n",
        "import sympy as sp\n",
        "\n",
        "U = Operator(circ)\n",
        "\n",
        "# Show the results\n",
        "M = sp.Matrix(U.data)\n",
        "print(M)"
      ],
      "metadata": {
        "colab": {
          "base_uri": "https://localhost:8080/"
        },
        "id": "DNxK-VudXmO4",
        "outputId": "f389cf12-5f55-4732-8a3c-0c5efaf5aa70"
      },
      "execution_count": 18,
      "outputs": [
        {
          "output_type": "stream",
          "name": "stdout",
          "text": [
            "Matrix([[0.707106781186547, 0.707106781186547, 0, 0, 0, 0, 0, 0], [0, 0, 0, 0, 0, 0, 0.707106781186547, -0.707106781186547], [0, 0, 0.707106781186547, 0.707106781186547, 0, 0, 0, 0], [0, 0, 0, 0, 0.707106781186547, -0.707106781186547, 0, 0], [0, 0, 0, 0, 0.707106781186547, 0.707106781186547, 0, 0], [0, 0, 0.707106781186547, -0.707106781186547, 0, 0, 0, 0], [0, 0, 0, 0, 0, 0, 0.707106781186547, 0.707106781186547], [0.707106781186547, -0.707106781186547, 0, 0, 0, 0, 0, 0]])\n"
          ]
        }
      ]
    },
    {
      "cell_type": "markdown",
      "source": [
        "## Actual Simulation"
      ],
      "metadata": {
        "id": "HUZLaHrzX49Z"
      }
    },
    {
      "cell_type": "markdown",
      "source": [
        "The simulators above are useful because they provide information about the state output by the ideal circuit and the matrix representation of the circuit. However, a real experiment terminates by _measuring_ each qubit (usually in the computational $|0\\rangle, |1\\rangle$ basis). Without measurement, we cannot gain information about the state. Measurements cause the quantum system to collapse into classical bits.\n",
        "\n",
        "For example, suppose we make independent measurements on each qubit of the three-qubit GHZ state\n",
        "\n",
        "$$|\\psi\\rangle = (|000\\rangle +|111\\rangle)/\\sqrt{2},$$\n",
        "\n",
        "and let $xyz$ denote the bitstring that results. Recall that, under the qubit labeling used by Qiskit, $x$ would correspond to the outcome on qubit 2, $y$ to the outcome on qubit 1, and $z$ to the outcome on qubit 0.\n",
        "\n",
        "\n",
        "<b>Note:</b> This representation of the bitstring puts the most significant bit (MSB) on the left, and the least significant bit (LSB) on the right. This is the standard ordering of binary bitstrings. We order the qubits in the same way (qubit representing the MSB has index 0), which is why Qiskit uses a non-standard tensor product order.\n",
        "\n",
        "\n",
        "Recall the probability of obtaining outcome $xyz$ is given by\n",
        "\n",
        "$$\\mathrm{Pr}(xyz) = |\\langle xyz | \\psi \\rangle |^{2}$$\n",
        "\n",
        "and as such for the GHZ state probability of obtaining 000 or 111 are both 1/2.\n",
        "\n",
        "To simulate a circuit that includes measurement, we need to add measurements to the original circuit above, and use a different simulator. Now that we will try to simulate meausrements in Qiskit, we should first learn about `ClassicalRegister` and how it works. It is a fundamental data structure that serve as storage for classical information, primarily the outcomes of quantum measurements. Let's see how we can impliment it"
      ],
      "metadata": {
        "id": "co34dGDIX5kI"
      }
    },
    {
      "cell_type": "code",
      "source": [
        "from qiskit import ClassicalRegister\n",
        "\n",
        "# Creating registers\n",
        "qr3 = QuantumRegister(3, 'qubits')\n",
        "qr4 = QuantumRegister(2, 'ancilla')\n",
        "cr = ClassicalRegister(2, 'meas')     # Classical bits\n",
        "\n",
        "# Circuit with 5 qubits (3 + 2) and 2 classical bits\n",
        "circ3 = QuantumCircuit(qr3, qr4, cr)\n",
        "print(circ3)"
      ],
      "metadata": {
        "colab": {
          "base_uri": "https://localhost:8080/"
        },
        "id": "2qByPfqaXyrW",
        "outputId": "9a685a60-61f9-41af-ce57-f1999cc599c8"
      },
      "execution_count": 19,
      "outputs": [
        {
          "output_type": "stream",
          "name": "stdout",
          "text": [
            "           \n",
            " qubits_0: \n",
            "           \n",
            " qubits_1: \n",
            "           \n",
            " qubits_2: \n",
            "           \n",
            "ancilla_0: \n",
            "           \n",
            "ancilla_1: \n",
            "           \n",
            "   meas: 2/\n",
            "           \n"
          ]
        }
      ]
    },
    {
      "cell_type": "markdown",
      "source": [
        "But in our simpler circuits where we don't explicitly create registers for our qubits we can use `QuantumCircuit(3, 3)` where the first argument creates a `QuantumRegister` with 3 qubits and 2nd argument creates a `ClassicalRegister` with 3 bits."
      ],
      "metadata": {
        "id": "2VQiUY_kYFyd"
      }
    },
    {
      "cell_type": "code",
      "source": [
        "# Create a Quantum Circuit\n",
        "meas = QuantumCircuit(3, 3)\n",
        "meas.barrier(range(3))\n",
        "# map the quantum measurement to the classical bits\n",
        "meas.measure(range(3), range(3))\n",
        "\n",
        "# The Qiskit circuit object supports composition.\n",
        "# Here the meas has to be first and front=True (putting it before)\n",
        "# as compose must put a smaller circuit into a larger one.\n",
        "qc = meas.compose(circ, range(3), front=True)\n",
        "\n",
        "#drawing the circuit\n",
        "qc.draw('mpl')"
      ],
      "metadata": {
        "colab": {
          "base_uri": "https://localhost:8080/",
          "height": 320
        },
        "id": "peB5VnzsYBpG",
        "outputId": "d3518db8-1c1d-4688-afd7-e1d31a883979"
      },
      "execution_count": 20,
      "outputs": [
        {
          "output_type": "execute_result",
          "data": {
            "text/plain": [
              "<Figure size 705.552x367.889 with 1 Axes>"
            ],
            "image/png": "[encoded data removed]"
          },
          "metadata": {},
          "execution_count": 20
        }
      ]
    },
    {
      "cell_type": "markdown",
      "source": [
        "`meas.barrier(range(3))` applies a visual and functional barrier to the specified qubits. A barrier in Qiskit prevents the compiler from reordering or merging gates across it while it tries to optimize the circuit if you transpile (will explain latter what this means) the circuit (essential step for running on real quantum hardware). This ensures operations execute in the exact order you define. Use it to isolate circuit sections or debug quantum programs. This circuit also adds a classical register, and three measurements that are used to map the outcome of qubits to the classical bits.\n",
        "\n",
        "In Qiskit the transpiler is a critical tool that optimizes and adapts your quantum circuit to run efficiently on real hardware. It does it by merging/canceling redundant gates and replacing high-level gates with hardware-supported ones, for example decomposing Toffoli gate into CX and single-qubit gates.\n",
        "\n",
        "To simulate this circuit, we use the `AerSimulator`. Each run of this circuit will yield either the bitstring 000 or 111. To build up statistics about the distribution of the bitstrings (to, e.g., estimate $\\mathrm{Pr}(000)$), we need to repeat the circuit many times. The number of times the circuit is repeated can be specified in the `execute` function, via the `shots` keyword."
      ],
      "metadata": {
        "id": "oMS13hTfYLvB"
      }
    },
    {
      "cell_type": "code",
      "source": [
        "!pip install qiskit-aer\n"
      ],
      "metadata": {
        "colab": {
          "base_uri": "https://localhost:8080/"
        },
        "id": "wxPcLNTVdLrG",
        "outputId": "1527b05a-907a-4ce3-89d0-e600fe775968"
      },
      "execution_count": 22,
      "outputs": [
        {
          "output_type": "stream",
          "name": "stdout",
          "text": [
            "Collecting qiskit-aer\n",
            "  Using cached qiskit_aer-0.17.1-cp311-cp311-manylinux_2_17_x86_64.manylinux2014_x86_64.whl.metadata (8.3 kB)\n",
            "Requirement already satisfied: qiskit>=1.1.0 in /usr/local/lib/python3.11/dist-packages (from qiskit-aer) (2.0.2)\n",
            "Requirement already satisfied: numpy>=1.16.3 in /usr/local/lib/python3.11/dist-packages (from qiskit-aer) (2.0.2)\n",
            "Requirement already satisfied: scipy>=1.0 in /usr/local/lib/python3.11/dist-packages (from qiskit-aer) (1.15.3)\n",
            "Requirement already satisfied: psutil>=5 in /usr/local/lib/python3.11/dist-packages (from qiskit-aer) (5.9.5)\n",
            "Requirement already satisfied: python-dateutil>=2.8.0 in /usr/local/lib/python3.11/dist-packages (from qiskit-aer) (2.9.0.post0)\n",
            "Requirement already satisfied: six>=1.5 in /usr/local/lib/python3.11/dist-packages (from python-dateutil>=2.8.0->qiskit-aer) (1.17.0)\n",
            "Requirement already satisfied: rustworkx>=0.15.0 in /usr/local/lib/python3.11/dist-packages (from qiskit>=1.1.0->qiskit-aer) (0.16.0)\n",
            "Requirement already satisfied: sympy>=1.3 in /usr/local/lib/python3.11/dist-packages (from qiskit>=1.1.0->qiskit-aer) (1.13.1)\n",
            "Requirement already satisfied: dill>=0.3 in /usr/local/lib/python3.11/dist-packages (from qiskit>=1.1.0->qiskit-aer) (0.3.7)\n",
            "Requirement already satisfied: stevedore>=3.0.0 in /usr/local/lib/python3.11/dist-packages (from qiskit>=1.1.0->qiskit-aer) (5.4.1)\n",
            "Requirement already satisfied: typing-extensions in /usr/local/lib/python3.11/dist-packages (from qiskit>=1.1.0->qiskit-aer) (4.14.0)\n",
            "Requirement already satisfied: symengine<0.14,>=0.11 in /usr/local/lib/python3.11/dist-packages (from qiskit>=1.1.0->qiskit-aer) (0.13.0)\n",
            "Requirement already satisfied: pbr>=2.0.0 in /usr/local/lib/python3.11/dist-packages (from stevedore>=3.0.0->qiskit>=1.1.0->qiskit-aer) (6.1.1)\n",
            "Requirement already satisfied: mpmath<1.4,>=1.1.0 in /usr/local/lib/python3.11/dist-packages (from sympy>=1.3->qiskit>=1.1.0->qiskit-aer) (1.3.0)\n",
            "Requirement already satisfied: setuptools in /usr/local/lib/python3.11/dist-packages (from pbr>=2.0.0->stevedore>=3.0.0->qiskit>=1.1.0->qiskit-aer) (75.2.0)\n",
            "Using cached qiskit_aer-0.17.1-cp311-cp311-manylinux_2_17_x86_64.manylinux2014_x86_64.whl (12.4 MB)\n",
            "Installing collected packages: qiskit-aer\n",
            "Successfully installed qiskit-aer-0.17.1\n"
          ]
        }
      ]
    },
    {
      "cell_type": "code",
      "source": [
        "# Adding the transpiler to optimize the circuit (But this is not necessary in AerSimulator unlike for real hardware runs)\n",
        "from qiskit import transpile\n",
        "\n",
        "# Use AerSimulator\n",
        "from qiskit_aer import AerSimulator\n",
        "\n",
        "backend = AerSimulator()\n",
        "\n",
        "# First we have to transpile the quantum circuit\n",
        "qc_compiled = transpile(qc, backend)\n",
        "\n",
        "# We've set the number of repeats of the circuit to be 1024\n",
        "job_sim = backend.run(qc_compiled, shots=1024)\n",
        "\n",
        "# Grab the results from the job.\n",
        "result_sim = job_sim.result()"
      ],
      "metadata": {
        "id": "Of7TwfrKYIvb"
      },
      "execution_count": 23,
      "outputs": []
    },
    {
      "cell_type": "markdown",
      "source": [
        "Once you have a result object, you can access the counts via the function `get_counts(circuit)`. This gives you the aggregated binary outcomes of the circuit you submitted."
      ],
      "metadata": {
        "id": "Ksr3-cyxYe3N"
      }
    },
    {
      "cell_type": "code",
      "source": [
        "counts = result_sim.get_counts(qc_compiled)\n",
        "print(counts)"
      ],
      "metadata": {
        "colab": {
          "base_uri": "https://localhost:8080/"
        },
        "id": "E3icFtjhYQJx",
        "outputId": "54be5b57-912b-4b1d-d6d1-d37e30fd9bda"
      },
      "execution_count": 24,
      "outputs": [
        {
          "output_type": "stream",
          "name": "stdout",
          "text": [
            "{'000': 516, '111': 508}\n"
          ]
        }
      ]
    },
    {
      "cell_type": "markdown",
      "source": [
        "Approximately 50 percent of the time, the output bitstring is 000. Qiskit also provides a function `plot_histogram`, which allows you to view the outcomes."
      ],
      "metadata": {
        "id": "IAhtbOpRYmqO"
      }
    },
    {
      "cell_type": "code",
      "source": [
        "from qiskit.visualization import plot_histogram\n",
        "plot_histogram(counts)"
      ],
      "metadata": {
        "colab": {
          "base_uri": "https://localhost:8080/",
          "height": 487
        },
        "id": "WFNWX8kYYiFr",
        "outputId": "115ced0d-55f7-443d-c92b-d599bd2418e3"
      },
      "execution_count": 25,
      "outputs": [
        {
          "output_type": "execute_result",
          "data": {
            "text/plain": [
              "<Figure size 640x480 with 1 Axes>"
            ],
            "image/png": "[encoded data removed]"
          },
          "metadata": {},
          "execution_count": 25
        }
      ]
    },
    {
      "cell_type": "markdown",
      "source": [
        "The estimated outcome probabilities $\\mathrm{Pr}(000)$ and  $\\mathrm{Pr}(111)$ are computed by taking the aggregate counts and dividing by the number of shots (times the circuit was repeated). Try changing the ``shots`` keyword in the ``execute`` function and see how the estimated probabilities change.\n",
        "\n",
        "## Working on Real Quantum Computers\n",
        "\n",
        "Now we will see how to run our circuit in IBM's real quantum hardware. Firstly we will use the `qiskit_ibm_runtime` package for this."
      ],
      "metadata": {
        "id": "kow0P1a7Y4ne"
      }
    },
    {
      "cell_type": "code",
      "source": [
        "!pip install qiskit-ibm-runtime"
      ],
      "metadata": {
        "colab": {
          "base_uri": "https://localhost:8080/"
        },
        "id": "RfhsE2e9ZJn1",
        "outputId": "34765f2d-6e59-41f2-e027-701a8acf3b45"
      },
      "execution_count": 28,
      "outputs": [
        {
          "output_type": "stream",
          "name": "stdout",
          "text": [
            "Requirement already satisfied: qiskit-ibm-runtime in /usr/local/lib/python3.11/dist-packages (0.40.1)\n",
            "Requirement already satisfied: requests>=2.19 in /usr/local/lib/python3.11/dist-packages (from qiskit-ibm-runtime) (2.32.4)\n",
            "Requirement already satisfied: requests-ntlm>=1.1.0 in /usr/local/lib/python3.11/dist-packages (from qiskit-ibm-runtime) (1.3.0)\n",
            "Requirement already satisfied: numpy>=1.13 in /usr/local/lib/python3.11/dist-packages (from qiskit-ibm-runtime) (2.0.2)\n",
            "Requirement already satisfied: urllib3>=1.21.1 in /usr/local/lib/python3.11/dist-packages (from qiskit-ibm-runtime) (2.4.0)\n",
            "Requirement already satisfied: python-dateutil>=2.8.0 in /usr/local/lib/python3.11/dist-packages (from qiskit-ibm-runtime) (2.9.0.post0)\n",
            "Requirement already satisfied: ibm-platform-services>=0.22.6 in /usr/local/lib/python3.11/dist-packages (from qiskit-ibm-runtime) (0.66.2)\n",
            "Requirement already satisfied: pydantic>=2.5.0 in /usr/local/lib/python3.11/dist-packages (from qiskit-ibm-runtime) (2.11.5)\n",
            "Requirement already satisfied: qiskit>=1.4.1 in /usr/local/lib/python3.11/dist-packages (from qiskit-ibm-runtime) (2.0.2)\n",
            "Requirement already satisfied: packaging in /usr/local/lib/python3.11/dist-packages (from qiskit-ibm-runtime) (24.2)\n",
            "Requirement already satisfied: ibm_cloud_sdk_core<4.0.0,>=3.24.2 in /usr/local/lib/python3.11/dist-packages (from ibm-platform-services>=0.22.6->qiskit-ibm-runtime) (3.24.2)\n",
            "Requirement already satisfied: annotated-types>=0.6.0 in /usr/local/lib/python3.11/dist-packages (from pydantic>=2.5.0->qiskit-ibm-runtime) (0.7.0)\n",
            "Requirement already satisfied: pydantic-core==2.33.2 in /usr/local/lib/python3.11/dist-packages (from pydantic>=2.5.0->qiskit-ibm-runtime) (2.33.2)\n",
            "Requirement already satisfied: typing-extensions>=4.12.2 in /usr/local/lib/python3.11/dist-packages (from pydantic>=2.5.0->qiskit-ibm-runtime) (4.14.0)\n",
            "Requirement already satisfied: typing-inspection>=0.4.0 in /usr/local/lib/python3.11/dist-packages (from pydantic>=2.5.0->qiskit-ibm-runtime) (0.4.1)\n",
            "Requirement already satisfied: six>=1.5 in /usr/local/lib/python3.11/dist-packages (from python-dateutil>=2.8.0->qiskit-ibm-runtime) (1.17.0)\n",
            "Requirement already satisfied: rustworkx>=0.15.0 in /usr/local/lib/python3.11/dist-packages (from qiskit>=1.4.1->qiskit-ibm-runtime) (0.16.0)\n",
            "Requirement already satisfied: scipy>=1.5 in /usr/local/lib/python3.11/dist-packages (from qiskit>=1.4.1->qiskit-ibm-runtime) (1.15.3)\n",
            "Requirement already satisfied: sympy>=1.3 in /usr/local/lib/python3.11/dist-packages (from qiskit>=1.4.1->qiskit-ibm-runtime) (1.13.1)\n",
            "Requirement already satisfied: dill>=0.3 in /usr/local/lib/python3.11/dist-packages (from qiskit>=1.4.1->qiskit-ibm-runtime) (0.3.7)\n",
            "Requirement already satisfied: stevedore>=3.0.0 in /usr/local/lib/python3.11/dist-packages (from qiskit>=1.4.1->qiskit-ibm-runtime) (5.4.1)\n",
            "Requirement already satisfied: symengine<0.14,>=0.11 in /usr/local/lib/python3.11/dist-packages (from qiskit>=1.4.1->qiskit-ibm-runtime) (0.13.0)\n",
            "Requirement already satisfied: charset_normalizer<4,>=2 in /usr/local/lib/python3.11/dist-packages (from requests>=2.19->qiskit-ibm-runtime) (3.4.2)\n",
            "Requirement already satisfied: idna<4,>=2.5 in /usr/local/lib/python3.11/dist-packages (from requests>=2.19->qiskit-ibm-runtime) (3.10)\n",
            "Requirement already satisfied: certifi>=2017.4.17 in /usr/local/lib/python3.11/dist-packages (from requests>=2.19->qiskit-ibm-runtime) (2025.4.26)\n",
            "Requirement already satisfied: cryptography>=1.3 in /usr/local/lib/python3.11/dist-packages (from requests-ntlm>=1.1.0->qiskit-ibm-runtime) (43.0.3)\n",
            "Requirement already satisfied: pyspnego>=0.4.0 in /usr/local/lib/python3.11/dist-packages (from requests-ntlm>=1.1.0->qiskit-ibm-runtime) (0.11.2)\n",
            "Requirement already satisfied: cffi>=1.12 in /usr/local/lib/python3.11/dist-packages (from cryptography>=1.3->requests-ntlm>=1.1.0->qiskit-ibm-runtime) (1.17.1)\n",
            "Requirement already satisfied: PyJWT<3.0.0,>=2.10.1 in /usr/local/lib/python3.11/dist-packages (from ibm_cloud_sdk_core<4.0.0,>=3.24.2->ibm-platform-services>=0.22.6->qiskit-ibm-runtime) (2.10.1)\n",
            "Requirement already satisfied: pbr>=2.0.0 in /usr/local/lib/python3.11/dist-packages (from stevedore>=3.0.0->qiskit>=1.4.1->qiskit-ibm-runtime) (6.1.1)\n",
            "Requirement already satisfied: mpmath<1.4,>=1.1.0 in /usr/local/lib/python3.11/dist-packages (from sympy>=1.3->qiskit>=1.4.1->qiskit-ibm-runtime) (1.3.0)\n",
            "Requirement already satisfied: pycparser in /usr/local/lib/python3.11/dist-packages (from cffi>=1.12->cryptography>=1.3->requests-ntlm>=1.1.0->qiskit-ibm-runtime) (2.22)\n",
            "Requirement already satisfied: setuptools in /usr/local/lib/python3.11/dist-packages (from pbr>=2.0.0->stevedore>=3.0.0->qiskit>=1.4.1->qiskit-ibm-runtime) (75.2.0)\n"
          ]
        }
      ]
    },
    {
      "cell_type": "code",
      "source": [
        "from qiskit_ibm_runtime import QiskitRuntimeService\n",
        "QiskitRuntimeService.delete_account()"
      ],
      "metadata": {
        "colab": {
          "base_uri": "https://localhost:8080/"
        },
        "id": "rhcaebfQZH4U",
        "outputId": "f32eca51-fdb2-455d-f4d0-7bbbb7954aa5"
      },
      "execution_count": 29,
      "outputs": [
        {
          "output_type": "execute_result",
          "data": {
            "text/plain": [
              "True"
            ]
          },
          "metadata": {},
          "execution_count": 29
        }
      ]
    },
    {
      "cell_type": "code",
      "source": [
        "from qiskit_ibm_runtime import QiskitRuntimeService\n",
        "\n",
        "QiskitRuntimeService.save_account(\n",
        "    token=\"6a0d79cb70f6702958d84bbbbfd597e93e2e94acb4d101b219dc1c54436dd59948284cf79d69be9c043531b994c9b8041acb11c6b85502298c91a44ad994961b\",\n",
        "    channel=\"ibm_quantum\",  # ← NOTE: use \"ibm_quantum\" not \"ibm_quantum_platform\"\n",
        "    overwrite = True\n",
        ")"
      ],
      "metadata": {
        "id": "i19UJXglZvx6"
      },
      "execution_count": 32,
      "outputs": []
    },
    {
      "cell_type": "code",
      "source": [
        "service = QiskitRuntimeService()\n",
        "print(service.backends())\n"
      ],
      "metadata": {
        "colab": {
          "base_uri": "https://localhost:8080/"
        },
        "id": "LT2afv1caHqp",
        "outputId": "de8dda53-c48a-469e-daac-9120d5d16d57"
      },
      "execution_count": 33,
      "outputs": [
        {
          "output_type": "stream",
          "name": "stderr",
          "text": [
            "<ipython-input-33-1240450948>:1: DeprecationWarning: The \"ibm_quantum\" channel option is deprecated and will be sunset on 1 July. After this date, \"ibm_cloud\", \"ibm_quantum_platform\", and \"local\" will be the only valid channels. Open Plan users should migrate now.  All other users should review the migration guide (https://quantum.cloud.ibm.com/docs/migration-guides/classic-iqp-to-cloud-iqp)to learn when to migrate.\n",
            "  service = QiskitRuntimeService()\n"
          ]
        },
        {
          "output_type": "stream",
          "name": "stdout",
          "text": [
            "[<IBMBackend('ibm_brisbane')>, <IBMBackend('ibm_sherbrooke')>]\n"
          ]
        }
      ]
    },
    {
      "cell_type": "code",
      "source": [
        "from qiskit_ibm_runtime import QiskitRuntimeService\n",
        "\n",
        "# Uncomment the line below when you try to acccess IBM quantum hardware for the first time, this will save our account so you can directly use it later\n",
        "QiskitRuntimeService.save_account(channel=\"ibm_quantum\", token=\"6a0d79cb70f6702958d84bbbbfd597e93e2e94acb4d101b219dc1c54436dd59948284cf79d69be9c043531b994c9b8041acb11c6b85502298c91a44ad994961b\", overwrite= True)\n",
        "\n",
        "service = QiskitRuntimeService()  # Loads your saved credentials\n",
        "\n",
        "# List available backends\n",
        "print(service.backends())"
      ],
      "metadata": {
        "colab": {
          "base_uri": "https://localhost:8080/"
        },
        "id": "e5HAYIz2aLG1",
        "outputId": "bd2ba910-2180-4064-a017-47fef7400771"
      },
      "execution_count": 35,
      "outputs": [
        {
          "output_type": "stream",
          "name": "stderr",
          "text": [
            "<ipython-input-35-2295215929>:6: DeprecationWarning: The \"ibm_quantum\" channel option is deprecated and will be sunset on 1 July. After this date, \"ibm_cloud\", \"ibm_quantum_platform\", and \"local\" will be the only valid channels. Open Plan users should migrate now.  All other users should review the migration guide (https://quantum.cloud.ibm.com/docs/migration-guides/classic-iqp-to-cloud-iqp)to learn when to migrate.\n",
            "  service = QiskitRuntimeService()  # Loads your saved credentials\n"
          ]
        },
        {
          "output_type": "stream",
          "name": "stdout",
          "text": [
            "[<IBMBackend('ibm_brisbane')>, <IBMBackend('ibm_sherbrooke')>]\n"
          ]
        }
      ]
    },
    {
      "cell_type": "code",
      "source": [
        "backend = service.least_busy(operational=True, min_num_qubits=5)"
      ],
      "metadata": {
        "id": "Oi5-yQqYaShc"
      },
      "execution_count": 36,
      "outputs": []
    },
    {
      "cell_type": "markdown",
      "source": [
        "`.least_busy(operational=True, min_num_qubits=5)` is used to find the quantum backend (real hardware device) that currently has the shortest queue or lowest workload. The idea is to pick a device that will execute your job the fastest. The first argument ensures that the selected backend is currently online and functioning correctly. While the second argument ensures that backend supports atleast 5 qubits (not necessary here, added just for informational purpose)."
      ],
      "metadata": {
        "id": "ByZ9MNpWagGx"
      }
    },
    {
      "cell_type": "code",
      "source": [
        "print(                                 # Displays the details of the selected backend\n",
        "    f\"Name: {backend.name}\\n\"\n",
        "    f\"Version: {backend.version}\\n\"\n",
        "    f\"No. of qubits: {backend.num_qubits}\\n\"\n",
        ")"
      ],
      "metadata": {
        "colab": {
          "base_uri": "https://localhost:8080/"
        },
        "id": "Zq7aFi_paYly",
        "outputId": "56fedd00-f3e2-4f30-94cb-cb5965517871"
      },
      "execution_count": 37,
      "outputs": [
        {
          "output_type": "stream",
          "name": "stdout",
          "text": [
            "Name: ibm_brisbane\n",
            "Version: 2\n",
            "No. of qubits: 127\n",
            "\n"
          ]
        }
      ]
    },
    {
      "cell_type": "markdown",
      "source": [
        "Now, we will transpile the circuit as it is necessary in this case (to make the circuit compatible with the backend's capabilities). `optimization_level` argument controls the aggressiveness of the optimization process. It tells the transpiler how much effort to put into reducing the circuit's depth and gate count. Level 2 means medium optimization. By default it is set to 1, 0 means no optimization."
      ],
      "metadata": {
        "id": "luVJ7b4Vaojw"
      }
    },
    {
      "cell_type": "code",
      "source": [
        "# First we have to transpile the quantum circuit\n",
        "qc_compiled = transpile(qc, backend, optimization_level=2)"
      ],
      "metadata": {
        "id": "-8mvwsp1akp3"
      },
      "execution_count": 38,
      "outputs": []
    },
    {
      "cell_type": "markdown",
      "source": [
        "As we can see below, after transpiling the circuit it has been transformed to the hardware compatible format. Out of the 127 available qubits, qubits 41, 42 and 51 are used to impliment out circuit while the rest are kept as ancillas."
      ],
      "metadata": {
        "id": "o-LyB0sBbcgZ"
      }
    },
    {
      "cell_type": "code",
      "source": [
        "qc_compiled.draw('mpl')"
      ],
      "metadata": {
        "colab": {
          "base_uri": "https://localhost:8080/",
          "height": 332
        },
        "id": "D3fO9pZDbXEZ",
        "outputId": "5e387d5a-097f-41b1-971f-b0c96f714314"
      },
      "execution_count": 39,
      "outputs": [
        {
          "output_type": "execute_result",
          "data": {
            "text/plain": [
              "<Figure size 1194.72x367.889 with 1 Axes>"
            ],
            "image/png": "[encoded data removed]"
          },
          "metadata": {},
          "execution_count": 39
        }
      ]
    },
    {
      "cell_type": "markdown",
      "source": [
        "In Qiskit, `Sampler` and `Estimator` are the two primary ways one can send job instructions to real hardware. The Sampler is designed to efficiently return probability distributions of measurement outcomes in the computational basis, just like what we did with AerSimulator previously. Estimator is designed to efficiently calculate the expectation values of quantum observables. While you can use the Sampler to approximately estimate the state and then manually calculate the expectation value, estimator is just the efficient and better method (mostly due to error in state estimation using sampler as the dimensions of the Hilbert space increases)."
      ],
      "metadata": {
        "id": "dBM79jXUevyg"
      }
    },
    {
      "cell_type": "code",
      "source": [
        "from qiskit_ibm_runtime import Sampler\n",
        "\n",
        "sampler = Sampler(mode=backend)"
      ],
      "metadata": {
        "id": "tLM4IkxKbhEy"
      },
      "execution_count": 40,
      "outputs": []
    },
    {
      "cell_type": "code",
      "source": [
        "job = sampler.run([qc_compiled],shots=1024)  # shots define how many times the measurement made"
      ],
      "metadata": {
        "colab": {
          "base_uri": "https://localhost:8080/"
        },
        "id": "l2uIl6bleyzd",
        "outputId": "2fb7b682-55d8-43a3-9ae1-5c3845c8f19a"
      },
      "execution_count": 41,
      "outputs": [
        {
          "output_type": "stream",
          "name": "stderr",
          "text": [
            "/usr/local/lib/python3.11/dist-packages/qiskit_ibm_runtime/qiskit_runtime_service.py:1129: UserWarning: IBM Quantum Platform is moving, and this version will be sunset on July 1. To get started on the new platform, read the migration guide at https://docs.quantum.ibm.com/migration-guides/classic-iqp-to-cloud-iqp\n",
            "  warnings.warn(warning_message)\n"
          ]
        }
      ]
    },
    {
      "cell_type": "code",
      "source": [
        "# Getting the results\n",
        "result = job.result()\n",
        "pub_result = result[0]\n",
        "print(pub_result.data.c.get_counts())"
      ],
      "metadata": {
        "colab": {
          "base_uri": "https://localhost:8080/"
        },
        "id": "mPbKRk5ee093",
        "outputId": "f1721793-e048-4477-d703-8853ca9954af"
      },
      "execution_count": 42,
      "outputs": [
        {
          "output_type": "stream",
          "name": "stdout",
          "text": [
            "{'001': 5, '111': 494, '000': 495, '100': 13, '011': 5, '101': 6, '110': 1, '010': 5}\n"
          ]
        }
      ]
    },
    {
      "cell_type": "code",
      "source": [
        "counts = pub_result.data.c.get_counts()\n",
        "plot_histogram(counts)"
      ],
      "metadata": {
        "colab": {
          "base_uri": "https://localhost:8080/",
          "height": 487
        },
        "id": "bepcu0OEe5_Z",
        "outputId": "5ce0c60d-d071-4ff5-b643-b8252034f715"
      },
      "execution_count": 43,
      "outputs": [
        {
          "output_type": "execute_result",
          "data": {
            "text/plain": [
              "<Figure size 640x480 with 1 Axes>"
            ],
            "image/png": "[encoded data removed]"
          },
          "metadata": {},
          "execution_count": 43
        }
      ]
    },
    {
      "cell_type": "markdown",
      "source": [
        "As we can see from the histogram above, there are a few instances of measuresing those states which must be impossible to measure (due to 0 prob.) for our state construction. This is due to the errors in real quantum hardware (The real 'kebab me haddi' preventing the quantum revolution from its onset).\n",
        "\n",
        "But since using real quantum computers comes at a cost (using up the free 10 mins provided monthly to free users), we will often find ourselves using the `AerSimulator` but with synthetically adding errors in it to better simulate the real quantum computers. Below we will see how to add errors in the `AerSimulator`. For this we will be using the `qiskit_aer.noise` module."
      ],
      "metadata": {
        "id": "8sUoCLbJfCft"
      }
    },
    {
      "cell_type": "code",
      "source": [
        "from qiskit_aer.noise import NoiseModel"
      ],
      "metadata": {
        "id": "jFMiNWcDe-kJ"
      },
      "execution_count": 44,
      "outputs": []
    },
    {
      "cell_type": "code",
      "source": [
        "backend.name"
      ],
      "metadata": {
        "colab": {
          "base_uri": "https://localhost:8080/",
          "height": 36
        },
        "id": "IvkbC9lKfE7k",
        "outputId": "0654cb21-619f-4f88-dddd-9e36e1d12274"
      },
      "execution_count": 45,
      "outputs": [
        {
          "output_type": "execute_result",
          "data": {
            "text/plain": [
              "'ibm_brisbane'"
            ],
            "application/vnd.google.colaboratory.intrinsic+json": {
              "type": "string"
            }
          },
          "metadata": {},
          "execution_count": 45
        }
      ]
    },
    {
      "cell_type": "markdown",
      "source": [
        "`NoiseModel.from_backend(backend)` helps us create a statistical model of the noise and errors characteristic of the specific real quantum hardware backend that we have chosen. We will used this model for replicating errors in `AerSimulator`."
      ],
      "metadata": {
        "id": "Lk6GGIPGfOzG"
      }
    },
    {
      "cell_type": "code",
      "source": [
        "# Configure noise model\n",
        "noise_model = NoiseModel.from_backend(backend)"
      ],
      "metadata": {
        "id": "AsOJhKmTfPMa"
      },
      "execution_count": 46,
      "outputs": []
    },
    {
      "cell_type": "code",
      "source": [
        "backend = AerSimulator(noise_model=noise_model)\n",
        "\n",
        "qc_compiled = transpile(qc, backend)\n",
        "\n",
        "job_sim = backend.run(qc_compiled, shots=1024)"
      ],
      "metadata": {
        "id": "joSjb_exfRPG"
      },
      "execution_count": 47,
      "outputs": []
    },
    {
      "cell_type": "code",
      "source": [
        "result_sim = job_sim.result()\n",
        "\n",
        "counts = result_sim.get_counts(qc_compiled)\n",
        "\n",
        "print(counts)"
      ],
      "metadata": {
        "colab": {
          "base_uri": "https://localhost:8080/"
        },
        "id": "52R3Z18ufUyr",
        "outputId": "c2e94d24-cb80-4793-b307-44e44f6535c7"
      },
      "execution_count": 48,
      "outputs": [
        {
          "output_type": "stream",
          "name": "stdout",
          "text": [
            "{'100': 2, '101': 18, '110': 16, '001': 22, '011': 2, '111': 468, '010': 17, '000': 479}\n"
          ]
        }
      ]
    },
    {
      "cell_type": "code",
      "source": [
        "plot_histogram(counts)"
      ],
      "metadata": {
        "colab": {
          "base_uri": "https://localhost:8080/",
          "height": 487
        },
        "id": "ZpwnnEx9fW3B",
        "outputId": "7ff468d2-2557-4eb8-d5d5-e282d3cf4abf"
      },
      "execution_count": 49,
      "outputs": [
        {
          "output_type": "execute_result",
          "data": {
            "text/plain": [
              "<Figure size 640x480 with 1 Axes>"
            ],
            "image/png": "[encoded data removed]"
          },
          "metadata": {},
          "execution_count": 49
        }
      ]
    },
    {
      "cell_type": "code",
      "source": [],
      "metadata": {
        "id": "36iGQzQgfZjf"
      },
      "execution_count": null,
      "outputs": []
    }
  ]
}